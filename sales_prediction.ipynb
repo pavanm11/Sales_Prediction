# sales_forecasting_pipeline.py

import pandas as pd
import numpy as np
from sklearn.model_selection import train_test_split
from sklearn.preprocessing import StandardScaler, OneHotEncoder
from sklearn.ensemble import RandomForestRegressor
from sklearn.metrics import mean_squared_error, mean_absolute_error, r2_score
from sklearn.compose import ColumnTransformer
from sklearn.pipeline import Pipeline
from xgboost import XGBRegressor
import matplotlib.pyplot as plt
import seaborn as sns

# Load the dataset
df = pd.read_csv("sales_data.csv", parse_dates=["date"])

# Feature Engineering
df['month'] = df['date'].dt.month
df['day_of_week'] = df['date'].dt.dayofweek
df['is_weekend'] = df['day_of_week'].apply(lambda x: 1 if x >= 5 else 0)

# Handle missing values
df.fillna(df.median(numeric_only=True), inplace=True)

# Remove outliers using IQR
Q1 = df['sales'].quantile(0.25)
Q3 = df['sales'].quantile(0.75)
IQR = Q3 - Q1
df = df[(df['sales'] >= Q1 - 1.5 * IQR) & (df['sales'] <= Q3 + 1.5 * IQR)]

# Step 5: Preprocessing
numeric_features = ['age', 'annual_salary', 'credit_card_debt', 'net_worth']
categorical_features = ['country', 'gender']
preprocessor = ColumnTransformer(
    transformers=[
        ('num', StandardScaler(), numeric_features),
        ('cat', OneHotEncoder(drop='first', handle_unknown='ignore'), categorical_features)
    ])

# Define features and target
features = ['advertising_spend', 'customer_segment', 'month', 'day_of_week', 'is_weekend']
target = 'sales'
X = df[features]
y = df[target]

# Preprocessing
numeric_features = ['advertising_spend', 'month', 'day_of_week', 'is_weekend']
categorical_features = ['customer_segment']

preprocessor = ColumnTransformer(
    transformers=[
        ('num', StandardScaler(), numeric_features),
        ('cat', OneHotEncoder(drop='first'), categorical_features)
    ])

# Pipeline with XGBoost
model = Pipeline(steps=[
    ('preprocessor', preprocessor),
    ('regressor', XGBRegressor(n_estimators=100, learning_rate=0.1, random_state=42))
])

# Train-test split
X_train, X_test, y_train, y_test = train_test_split(X, y, test_size=0.2, random_state=42)

# Train
model.fit(X_train, y_train)

# Predict
y_pred = model.predict(X_test)

# Evaluation
print("RMSE:", np.sqrt(mean_squared_error(y_test, y_pred)))
print("MAE:", mean_absolute_error(y_test, y_pred))
print("R² Score:", r2_score(y_test, y_pred))

# Plot predictions
plt.figure(figsize=(10, 5))
sns.lineplot(x=range(len(y_test)), y=y_test.values, label="Actual")
sns.lineplot(x=range(len(y_pred)), y=y_pred, label="Predicted")
plt.title("Actual vs Predicted Sales")
plt.xlabel("Samples")
plt.ylabel("Sales")
plt.legend()
plt.tight_layout()
plt.show()
